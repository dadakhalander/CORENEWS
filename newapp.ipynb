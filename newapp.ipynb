{
 "cells": [
  {
   "cell_type": "code",
   "execution_count": 1,
   "metadata": {},
   "outputs": [
    {
     "name": "stdout",
     "output_type": "stream",
     "text": [
      " * Serving Flask app \"__main__\" (lazy loading)\n",
      " * Environment: production\n",
      "   WARNING: This is a development server. Do not use it in a production deployment.\n",
      "   Use a production WSGI server instead.\n",
      " * Debug mode: off\n"
     ]
    },
    {
     "name": "stderr",
     "output_type": "stream",
     "text": [
      " * Running on http://0.0.0.0:5000/ (Press CTRL+C to quit)\n",
      "127.0.0.1 - - [17/May/2020 18:36:12] \"\u001b[37mGET / HTTP/1.1\u001b[0m\" 200 -\n"
     ]
    },
    {
     "name": "stdout",
     "output_type": "stream",
     "text": [
      "None\n"
     ]
    },
    {
     "name": "stderr",
     "output_type": "stream",
     "text": [
      "127.0.0.1 - - [17/May/2020 18:36:12] \"\u001b[37mGET /static/css/bootstrap.css HTTP/1.1\u001b[0m\" 200 -\n",
      "127.0.0.1 - - [17/May/2020 18:36:12] \"\u001b[37mGET /static/css/style.css HTTP/1.1\u001b[0m\" 200 -\n",
      "127.0.0.1 - - [17/May/2020 18:36:12] \"\u001b[37mGET /static/css/font-awesome.min.css%20 HTTP/1.1\u001b[0m\" 200 -\n",
      "127.0.0.1 - - [17/May/2020 18:36:12] \"\u001b[37mGET /static/images/shape2.png HTTP/1.1\u001b[0m\" 200 -\n",
      "127.0.0.1 - - [17/May/2020 18:36:12] \"\u001b[37mGET /static/images/shape1.png HTTP/1.1\u001b[0m\" 200 -\n",
      "127.0.0.1 - - [17/May/2020 18:36:12] \"\u001b[37mGET /static/images/banner.png%20 HTTP/1.1\u001b[0m\" 200 -\n",
      "127.0.0.1 - - [17/May/2020 18:36:13] \"\u001b[37mGET /static/images/shape5.png HTTP/1.1\u001b[0m\" 200 -\n",
      "127.0.0.1 - - [17/May/2020 18:36:13] \"\u001b[37mGET /static/images/shape6.png HTTP/1.1\u001b[0m\" 200 -\n",
      "127.0.0.1 - - [17/May/2020 18:36:13] \"\u001b[37mGET /static/images/shape4.png HTTP/1.1\u001b[0m\" 200 -\n",
      "127.0.0.1 - - [17/May/2020 18:36:13] \"\u001b[37mGET /static/images/shape3.png HTTP/1.1\u001b[0m\" 200 -\n",
      "127.0.0.1 - - [17/May/2020 18:36:13] \"\u001b[33mGET /favicon.ico HTTP/1.1\u001b[0m\" 404 -\n",
      "127.0.0.1 - - [17/May/2020 18:36:17] \"\u001b[37mGET /login HTTP/1.1\u001b[0m\" 200 -\n",
      "127.0.0.1 - - [17/May/2020 18:36:17] \"\u001b[37mGET /static/images/b1.png%20 HTTP/1.1\u001b[0m\" 200 -\n",
      "127.0.0.1 - - [17/May/2020 18:36:17] \"\u001b[37mGET /static/images/inner.png HTTP/1.1\u001b[0m\" 200 -\n",
      "127.0.0.1 - - [17/May/2020 18:36:22] \"\u001b[32mPOST /login HTTP/1.1\u001b[0m\" 302 -\n"
     ]
    },
    {
     "name": "stdout",
     "output_type": "stream",
     "text": [
      "(1, 'abcd', 'mumbai', 'abc@gmail.com', '7894561230', '123', 8, 8, 6)\n",
      "1\n"
     ]
    },
    {
     "name": "stderr",
     "output_type": "stream",
     "text": [
      "127.0.0.1 - - [17/May/2020 18:36:25] \"\u001b[37mGET /home HTTP/1.1\u001b[0m\" 200 -\n"
     ]
    },
    {
     "name": "stdout",
     "output_type": "stream",
     "text": [
      "(1, 'abcd', 'mumbai', 'abc@gmail.com', '7894561230', '123', 8, 8, 6)\n",
      "1\n",
      "{'ht': 8, 'toi': 8, 'ie': 6}\n",
      "{'ht': 8, 'toi': 8, 'ie': 6}\n",
      "['ht', 'toi', 'ie']\n"
     ]
    },
    {
     "name": "stderr",
     "output_type": "stream",
     "text": [
      "127.0.0.1 - - [17/May/2020 18:36:32] \"\u001b[32mGET /news?view=toi&location=mumbai HTTP/1.1\u001b[0m\" 302 -\n",
      "127.0.0.1 - - [17/May/2020 18:36:32] \"\u001b[37mGET /city HTTP/1.1\u001b[0m\" 200 -\n"
     ]
    },
    {
     "name": "stdout",
     "output_type": "stream",
     "text": [
      "mumbai\n"
     ]
    },
    {
     "name": "stderr",
     "output_type": "stream",
     "text": [
      "127.0.0.1 - - [17/May/2020 18:36:44] \"\u001b[37mGET /home HTTP/1.1\u001b[0m\" 200 -\n"
     ]
    },
    {
     "name": "stdout",
     "output_type": "stream",
     "text": [
      "(1, 'abcd', 'mumbai', 'abc@gmail.com', '7894561230', '123', 8, 9, 6)\n",
      "1\n",
      "{'ht': 8, 'toi': 9, 'ie': 6}\n",
      "{'toi': 9, 'ht': 8, 'ie': 6}\n",
      "['toi', 'ht', 'ie']\n"
     ]
    },
    {
     "name": "stderr",
     "output_type": "stream",
     "text": [
      "127.0.0.1 - - [17/May/2020 18:36:52] \"\u001b[32mGET /news?view=toi&location=mumbai HTTP/1.1\u001b[0m\" 302 -\n",
      "127.0.0.1 - - [17/May/2020 18:36:52] \"\u001b[37mGET /city HTTP/1.1\u001b[0m\" 200 -\n"
     ]
    },
    {
     "name": "stdout",
     "output_type": "stream",
     "text": [
      "mumbai\n"
     ]
    },
    {
     "name": "stderr",
     "output_type": "stream",
     "text": [
      "127.0.0.1 - - [17/May/2020 18:36:58] \"\u001b[37mGET /home HTTP/1.1\u001b[0m\" 200 -\n"
     ]
    },
    {
     "name": "stdout",
     "output_type": "stream",
     "text": [
      "(1, 'abcd', 'mumbai', 'abc@gmail.com', '7894561230', '123', 8, 10, 6)\n",
      "1\n",
      "{'ht': 8, 'toi': 10, 'ie': 6}\n",
      "{'toi': 10, 'ht': 8, 'ie': 6}\n",
      "['toi', 'ht', 'ie']\n"
     ]
    },
    {
     "name": "stderr",
     "output_type": "stream",
     "text": [
      "127.0.0.1 - - [17/May/2020 18:37:01] \"\u001b[32mGET /news?view=ht&location=pune HTTP/1.1\u001b[0m\" 302 -\n",
      "127.0.0.1 - - [17/May/2020 18:37:01] \"\u001b[37mGET /city HTTP/1.1\u001b[0m\" 200 -\n"
     ]
    },
    {
     "name": "stdout",
     "output_type": "stream",
     "text": [
      "mumbai\n",
      "location is mumbai\n"
     ]
    },
    {
     "name": "stderr",
     "output_type": "stream",
     "text": [
      "127.0.0.1 - - [17/May/2020 18:37:03] \"\u001b[37mGET /citynews?location=mumbai HTTP/1.1\u001b[0m\" 200 -\n",
      "127.0.0.1 - - [17/May/2020 18:37:10] \"\u001b[37mGET /citynews?location=pune HTTP/1.1\u001b[0m\" 200 -\n"
     ]
    },
    {
     "name": "stdout",
     "output_type": "stream",
     "text": [
      "location is pune\n"
     ]
    },
    {
     "name": "stderr",
     "output_type": "stream",
     "text": [
      "127.0.0.1 - - [17/May/2020 18:37:16] \"\u001b[37mGET /citynews?location=delhi HTTP/1.1\u001b[0m\" 200 -\n"
     ]
    },
    {
     "name": "stdout",
     "output_type": "stream",
     "text": [
      "location is delhi\n"
     ]
    }
   ],
   "source": [
    "from flask import Flask, render_template, request, session, url_for, redirect, jsonify\n",
    "import pymysql\n",
    "import pandas as pd\n",
    "app = Flask(__name__)\n",
    "app.secret_key = 'random string'\n",
    "\n",
    "#Database Connection\n",
    "def dbConnection():\n",
    "    connection = pymysql.connect(host=\"localhost\", user=\"root\", password=\"root\", database=\"newsclassification\")\n",
    "    return connection\n",
    "\n",
    "\n",
    "#close DB connection\n",
    "def dbClose():\n",
    "    dbConnection().close()\n",
    "    return\n",
    "\n",
    "\n",
    "@app.route('/index')\n",
    "@app.route('/')\n",
    "def index():\n",
    "    session['userloc']= request.args.get(\"location\")\n",
    "    locationis=session['userloc']\n",
    "    print(locationis)\n",
    "    return render_template('index.html')\n",
    "\n",
    "\n",
    "@app.route('/home')\n",
    "def home():\n",
    "    if 'user' in session:\n",
    "        ht_cnt = 0\n",
    "        toi_cnt = 0\n",
    "        ie_cnt = 0\n",
    "        d = {'ht': 0, 'toi': 0, 'ie': 0}\n",
    "        b = {}\n",
    "        con = dbConnection()\n",
    "        cursor = con.cursor()\n",
    "        result_count = cursor.execute('SELECT * FROM userdetails WHERE mobile = %s',\n",
    "                                      (session['user']))\n",
    "        res = cursor.fetchone()\n",
    "        print(res)\n",
    "        if result_count > 0:\n",
    "            print(result_count)\n",
    "            session['uid'] = res[0]\n",
    "            ht_cnt = res[6]\n",
    "            toi_cnt = res[7]\n",
    "            ie_cnt = res[8]\n",
    "            d['ht'] = ht_cnt\n",
    "            d['toi'] = toi_cnt\n",
    "            d['ie'] = ie_cnt\n",
    "\n",
    "            print(d)\n",
    "            a = sorted(d.items(), key=lambda x: x[1], reverse=True)\n",
    "            b.update(a)\n",
    "            print(b)\n",
    "            list = []\n",
    "            for key in b.keys():\n",
    "                list.append(key)\n",
    "            print(list)\n",
    "            #session['sorted_dict'] = list\n",
    "        #return render_template('home1.html',user=session['user'], s=session['sorted_dict'])\n",
    "        return render_template('home.html', user=session['user'], s=list)\n",
    "    return redirect(url_for('index'))\n",
    "\n",
    "\n",
    "@app.route('/login', methods=[\"GET\",\"POST\"])\n",
    "def login():\n",
    "    msg = ''\n",
    "    # ht_cnt = 0\n",
    "    # toi_cnt = 0\n",
    "    # ie_cnt = 0\n",
    "    # d = {'ht': 0, 'toi': 0, 'ie': 0}\n",
    "    # b= {}\n",
    "    if request.method == \"POST\":\n",
    "        # session.pop('user',None)\n",
    "        mobno = request.form.get(\"mobile\")\n",
    "        password = request.form.get(\"pas\")\n",
    "        con = dbConnection()\n",
    "        cursor = con.cursor()\n",
    "        result_count = cursor.execute('SELECT * FROM userdetails WHERE mobile = %s AND password = %s',(mobno, password))\n",
    "        res = cursor.fetchone()\n",
    "        print(res)\n",
    "        if result_count > 0:\n",
    "            print(result_count)\n",
    "            session['user'] = mobno\n",
    "            session['uid'] = res[0]\n",
    "            # ht_cnt = res[6]\n",
    "            # toi_cnt = res[7]\n",
    "            # ie_cnt = res[8]\n",
    "            # d['ht'] = ht_cnt\n",
    "            # d['toi'] = toi_cnt\n",
    "            # d['ie'] = ie_cnt\n",
    "            # print(d)\n",
    "            # a = sorted(d.items(), key=lambda x: x[1], reverse=True)\n",
    "            # b.update(a)\n",
    "            # print(b)\n",
    "            # list = []\n",
    "            # for key in b.keys():\n",
    "            #     list.append(key)\n",
    "            # print(list)\n",
    "\n",
    "            # session['sorted_dict']= list\n",
    "            return redirect(url_for('home'))\n",
    "        else:\n",
    "            print(result_count)\n",
    "            msg = 'Incorrect username/password!'\n",
    "            return render_template('login.html')\n",
    "    return render_template('login.html')\n",
    "\n",
    "@app.route('/register', methods=[\"GET\",\"POST\"])\n",
    "def register():\n",
    "    print(\"register\")\n",
    "    if request.method == \"POST\":\n",
    "        try:\n",
    "            name = request.form.get(\"name\")\n",
    "            address = request.form.get(\"address\")\n",
    "            mailid = request.form.get(\"mailid\")\n",
    "            mobile = request.form.get(\"mobile\")\n",
    "            pass1 = request.form.get(\"pass1\")\n",
    "            con = dbConnection()\n",
    "            cursor = con.cursor()\n",
    "            cursor.execute('SELECT * FROM userdetails WHERE mobile = %s', (mobile))\n",
    "            res = cursor.fetchone()\n",
    "            if not res:\n",
    "                sql = \"INSERT INTO userdetails (name, address, email, mobile, password) VALUES (%s, %s, %s, %s, %s)\"\n",
    "                val = (name, address, mailid, mobile, pass1)\n",
    "                cursor.execute(sql, val)\n",
    "                con.commit()\n",
    "                \n",
    "                sql1 = \"INSERT INTO readingcount (uid, ht_count, toi_count, ie_count) VALUES (%s, %s, %s, %s)\"\n",
    "                val1 = (mobile,int(0),int(0),int(0))\n",
    "                cursor.execute(sql1, val1)\n",
    "                con.commit()\n",
    "                status= \"success\"\n",
    "                return redirect(url_for('index'))\n",
    "            else:\n",
    "                status = \"Already available\"\n",
    "            return status\n",
    "        except Exception as inst:\n",
    "            print(inst)\n",
    "            print(\"Exception occured at user registration\")\n",
    "            return redirect(url_for('index'))\n",
    "        finally:\n",
    "            dbClose()\n",
    "    return render_template('register.html')\n",
    "\n",
    "\n",
    "#logout code\n",
    "@app.route('/news', methods=['GET', 'POST'])\n",
    "def news():\n",
    "    if 'user' in session:\n",
    "        con = dbConnection()\n",
    "        cursor = con.cursor()\n",
    "        if 'view' in request.args:\n",
    "            n = request.args['view']\n",
    "            if n == 'ie':\n",
    "                icount = 0\n",
    "                cursor.execute('SELECT * FROM userdetails WHERE mobile = %s', (session['user']))\n",
    "                res = cursor.fetchone()\n",
    "                icount = res[8]\n",
    "                icount1 = icount + 1\n",
    "                cursor.execute('update userdetails SET ie_count = %s WHERE mobile = %s', (icount1, session['user']))\n",
    "                con.commit()\n",
    "            if n == 'toi':\n",
    "                icount = 0\n",
    "                cursor.execute('SELECT * FROM userdetails WHERE mobile = %s', (session['user']))\n",
    "                res = cursor.fetchone()\n",
    "                icount = res[7]\n",
    "                icount1 = icount + 1\n",
    "                cursor.execute('update userdetails SET toi_count = %s WHERE mobile = %s', (icount1, session['user']))\n",
    "                con.commit()\n",
    "            if n == 'ht':\n",
    "                icount = 0\n",
    "                cursor.execute('SELECT * FROM userdetails WHERE mobile = %s', (session['user']))\n",
    "                res = cursor.fetchone()\n",
    "                icount = res[6]\n",
    "                icount1 = icount + 1\n",
    "                cursor.execute('update userdetails SET ht_count = %s WHERE mobile = %s', (icount1, session['user']))\n",
    "                con.commit()\n",
    "        if 'location' in request.args:\n",
    "            session['loc']= request.args['location']\n",
    "            #session['userloc']= request.args.get(\"location\")\n",
    "        return redirect(url_for('city'))\n",
    "        #return render_template('home.html',user=session['user'])\n",
    "    return redirect(url_for('index'))\n",
    "\n",
    "\n",
    "#logout code\n",
    "@app.route('/citynews', methods=['GET', 'POST'])\n",
    "def citynews():\n",
    "    if 'user' in session:\n",
    "        if 'location' in request.args:\n",
    "            location= request.args['location']\n",
    "        print(\"location is \"+location)   \n",
    "        Corpus = pd.read_csv(r\"allnews.csv\",encoding='latin-1',error_bad_lines=False)\n",
    "        Corpus=Corpus[Corpus['label']==location+\".txt\"]\n",
    "        \n",
    "        \n",
    "        \n",
    "        return render_template(\"citynews.html\",name=location, data=Corpus.to_html())\n",
    "        #return render_template('home.html',user=session['user'])\n",
    "    return redirect(url_for('index'))\n",
    "\n",
    "\n",
    "@app.route('/city')\n",
    "def city():\n",
    "    if 'user' in session:\n",
    "        loc ='mumbai' #session['userloc']#'mumbai'# session['loc']\n",
    "        print(loc)\n",
    "        return render_template('city.html', user=session['user'], loc=loc)\n",
    "    return redirect(url_for('index'))\n",
    "\n",
    "\n",
    "#logout code\n",
    "@app.route('/logout')\n",
    "def logout():\n",
    "    session.pop('user')\n",
    "    return redirect(url_for('index'))\n",
    "\n",
    "\n",
    "if __name__ == '__main__':\n",
    "    app.run('0.0.0.0')\n",
    "    #app.run()\n"
   ]
  },
  {
   "cell_type": "code",
   "execution_count": 7,
   "metadata": {},
   "outputs": [
    {
     "name": "stdout",
     "output_type": "stream",
     "text": [
      "pune\n"
     ]
    },
    {
     "name": "stderr",
     "output_type": "stream",
     "text": [
      "b'Skipping line 23: expected 2 fields, saw 4\\n'\n"
     ]
    }
   ],
   "source": [
    "location= 'pune'\n",
    "print(location)   \n",
    "Corpus = pd.read_csv(r\"allnews.csv\",encoding='latin-1',error_bad_lines=False)\n",
    "Corpus=Corpus[Corpus['label']==location+\".txt\"]"
   ]
  },
  {
   "cell_type": "code",
   "execution_count": 8,
   "metadata": {},
   "outputs": [
    {
     "data": {
      "text/html": [
       "<div>\n",
       "<style scoped>\n",
       "    .dataframe tbody tr th:only-of-type {\n",
       "        vertical-align: middle;\n",
       "    }\n",
       "\n",
       "    .dataframe tbody tr th {\n",
       "        vertical-align: top;\n",
       "    }\n",
       "\n",
       "    .dataframe thead th {\n",
       "        text-align: right;\n",
       "    }\n",
       "</style>\n",
       "<table border=\"1\" class=\"dataframe\">\n",
       "  <thead>\n",
       "    <tr style=\"text-align: right;\">\n",
       "      <th></th>\n",
       "      <th>text</th>\n",
       "      <th>label</th>\n",
       "    </tr>\n",
       "  </thead>\n",
       "  <tbody>\n",
       "    <tr>\n",
       "      <th>0</th>\n",
       "      <td>PUNE: Pimpri Chinchwad police on Tuesday booke...</td>\n",
       "      <td>pune.txt</td>\n",
       "    </tr>\n",
       "    <tr>\n",
       "      <th>1</th>\n",
       "      <td>The violence that ensued in the first two day...</td>\n",
       "      <td>pune.txt</td>\n",
       "    </tr>\n",
       "    <tr>\n",
       "      <th>13</th>\n",
       "      <td>PUNE: Lt Gen Manoj Mukund Naravane, who is set...</td>\n",
       "      <td>pune.txt</td>\n",
       "    </tr>\n",
       "    <tr>\n",
       "      <th>14</th>\n",
       "      <td>Pune Municipal Corporation (PMC) has launched ...</td>\n",
       "      <td>pune.txt</td>\n",
       "    </tr>\n",
       "    <tr>\n",
       "      <th>15</th>\n",
       "      <td>The Pune Municipal Corporation (PMC), on Wedne...</td>\n",
       "      <td>pune.txt</td>\n",
       "    </tr>\n",
       "    <tr>\n",
       "      <th>16</th>\n",
       "      <td>As many as 22 medical associations IN the city...</td>\n",
       "      <td>pune.txt</td>\n",
       "    </tr>\n",
       "    <tr>\n",
       "      <th>19</th>\n",
       "      <td>PUNE: Motorcycle-borne men snatched two gold c...</td>\n",
       "      <td>pune.txt</td>\n",
       "    </tr>\n",
       "    <tr>\n",
       "      <th>27</th>\n",
       "      <td>PUNE: Motorcycle-borne men snatched two gold c...</td>\n",
       "      <td>pune.txt</td>\n",
       "    </tr>\n",
       "    <tr>\n",
       "      <th>28</th>\n",
       "      <td>If it werenât for an alert bus driver, commu...</td>\n",
       "      <td>pune.txt</td>\n",
       "    </tr>\n",
       "    <tr>\n",
       "      <th>41</th>\n",
       "      <td>Cotton ginners in Maharashtra will soon be ab...</td>\n",
       "      <td>pune.txt</td>\n",
       "    </tr>\n",
       "    <tr>\n",
       "      <th>42</th>\n",
       "      <td>The Pune Municipal Corporation (PMC) is planni...</td>\n",
       "      <td>pune.txt</td>\n",
       "    </tr>\n",
       "    <tr>\n",
       "      <th>43</th>\n",
       "      <td>Dairies in Pune have expressed their willingne...</td>\n",
       "      <td>pune.txt</td>\n",
       "    </tr>\n",
       "    <tr>\n",
       "      <th>44</th>\n",
       "      <td>Nikhil Daundkar, a resident of Koregaon Bhima ...</td>\n",
       "      <td>pune.txt</td>\n",
       "    </tr>\n",
       "    <tr>\n",
       "      <th>45</th>\n",
       "      <td>AS the India-Russia joint tri-services exercis...</td>\n",
       "      <td>pune.txt</td>\n",
       "    </tr>\n",
       "    <tr>\n",
       "      <th>46</th>\n",
       "      <td>Pune Railway station, among the âmost sensit...</td>\n",
       "      <td>pune.txt</td>\n",
       "    </tr>\n",
       "    <tr>\n",
       "      <th>59</th>\n",
       "      <td>Cotton ginners in Maharashtra will soon be ab...</td>\n",
       "      <td>pune.txt</td>\n",
       "    </tr>\n",
       "    <tr>\n",
       "      <th>60</th>\n",
       "      <td>The Pune Municipal Corporation (PMC) is planni...</td>\n",
       "      <td>pune.txt</td>\n",
       "    </tr>\n",
       "    <tr>\n",
       "      <th>61</th>\n",
       "      <td>Dairies in Pune have expressed their willingne...</td>\n",
       "      <td>pune.txt</td>\n",
       "    </tr>\n",
       "    <tr>\n",
       "      <th>62</th>\n",
       "      <td>Nikhil Daundkar, a resident of Koregaon Bhima ...</td>\n",
       "      <td>pune.txt</td>\n",
       "    </tr>\n",
       "    <tr>\n",
       "      <th>63</th>\n",
       "      <td>AS the India-Russia joint tri-services exercis...</td>\n",
       "      <td>pune.txt</td>\n",
       "    </tr>\n",
       "  </tbody>\n",
       "</table>\n",
       "</div>"
      ],
      "text/plain": [
       "                                                 text     label\n",
       "0   PUNE: Pimpri Chinchwad police on Tuesday booke...  pune.txt\n",
       "1    The violence that ensued in the first two day...  pune.txt\n",
       "13  PUNE: Lt Gen Manoj Mukund Naravane, who is set...  pune.txt\n",
       "14  Pune Municipal Corporation (PMC) has launched ...  pune.txt\n",
       "15  The Pune Municipal Corporation (PMC), on Wedne...  pune.txt\n",
       "16  As many as 22 medical associations IN the city...  pune.txt\n",
       "19  PUNE: Motorcycle-borne men snatched two gold c...  pune.txt\n",
       "27  PUNE: Motorcycle-borne men snatched two gold c...  pune.txt\n",
       "28  If it werenât for an alert bus driver, commu...  pune.txt\n",
       "41   Cotton ginners in Maharashtra will soon be ab...  pune.txt\n",
       "42  The Pune Municipal Corporation (PMC) is planni...  pune.txt\n",
       "43  Dairies in Pune have expressed their willingne...  pune.txt\n",
       "44  Nikhil Daundkar, a resident of Koregaon Bhima ...  pune.txt\n",
       "45  AS the India-Russia joint tri-services exercis...  pune.txt\n",
       "46  Pune Railway station, among the âmost sensit...  pune.txt\n",
       "59   Cotton ginners in Maharashtra will soon be ab...  pune.txt\n",
       "60  The Pune Municipal Corporation (PMC) is planni...  pune.txt\n",
       "61  Dairies in Pune have expressed their willingne...  pune.txt\n",
       "62  Nikhil Daundkar, a resident of Koregaon Bhima ...  pune.txt\n",
       "63  AS the India-Russia joint tri-services exercis...  pune.txt"
      ]
     },
     "execution_count": 8,
     "metadata": {},
     "output_type": "execute_result"
    }
   ],
   "source": [
    "Corpus"
   ]
  },
  {
   "cell_type": "code",
   "execution_count": null,
   "metadata": {},
   "outputs": [],
   "source": []
  }
 ],
 "metadata": {
  "kernelspec": {
   "display_name": "Python 3",
   "language": "python",
   "name": "python3"
  },
  "language_info": {
   "codemirror_mode": {
    "name": "ipython",
    "version": 3
   },
   "file_extension": ".py",
   "mimetype": "text/x-python",
   "name": "python",
   "nbconvert_exporter": "python",
   "pygments_lexer": "ipython3",
   "version": "3.7.6"
  }
 },
 "nbformat": 4,
 "nbformat_minor": 4
}
